{
 "cells": [
  {
   "cell_type": "code",
   "execution_count": 128,
   "id": "61da5bdb-e165-47c6-a6b9-865411ce4664",
   "metadata": {},
   "outputs": [],
   "source": [
    "import cv2\n",
    "import numpy as np\n",
    "import os\n",
    "import yaml\n",
    "from yaml.loader import SafeLoader"
   ]
  },
  {
   "cell_type": "code",
   "execution_count": 129,
   "id": "2e36e8c9-dbbe-4ca2-8e0a-099a37a72bfd",
   "metadata": {},
   "outputs": [
    {
     "name": "stdout",
     "output_type": "stream",
     "text": [
      "['crater', 'boulder']\n"
     ]
    }
   ],
   "source": [
    "with open('data.yaml',mode='r') as f:\n",
    "    data_yaml=yaml.load(f,Loader=SafeLoader)\n",
    "\n",
    "labels=data_yaml['names']\n",
    "print(labels)"
   ]
  },
  {
   "cell_type": "code",
   "execution_count": 130,
   "id": "4aa1a1b7-b512-47d1-a233-9ec38527aaab",
   "metadata": {},
   "outputs": [],
   "source": [
    "yolo=cv2.dnn.readNetFromONNX('C:/Users/DELL/OneDrive/Desktop/yolo/prediction/Model/weights/best.onnx')\n",
    "yolo.setPreferableBackend(cv2.dnn.DNN_BACKEND_OPENCV)\n",
    "yolo.setPreferableTarget(cv2.dnn.DNN_TARGET_CPU)"
   ]
  },
  {
   "cell_type": "code",
   "execution_count": 177,
   "id": "a9854604-9db0-416b-9af7-1b36dc76333e",
   "metadata": {},
   "outputs": [],
   "source": [
    "img=cv2.imread('C:/Users/DELL/OneDrive/Desktop/yolo/prediction/moon_img_1.jpg')\n",
    "image=img.copy()\n",
    "# cv2.imshow('image',image)\n",
    "# cv2.waitKey(0)\n",
    "# cv2.destroyAllWindows()\n",
    "row,col,d=image.shape"
   ]
  },
  {
   "cell_type": "code",
   "execution_count": 178,
   "id": "6001ba55-1537-4063-a864-cca3fd00d3b2",
   "metadata": {},
   "outputs": [],
   "source": [
    "max_rc=max(row,col)\n",
    "input_image=np.zeros((max_rc,max_rc,3),dtype=np.uint8)\n",
    "input_image[0:row,0:col]=image\n",
    "\n",
    "INPUT_WH_YOLO=640\n",
    "blob=cv2.dnn.blobFromImage(input_image,1/255,(INPUT_WH_YOLO,INPUT_WH_YOLO),swapRB=True,crop=False)\n",
    "yolo.setInput(blob)\n",
    "preds=yolo.forward()\n",
    "\n",
    "# cv2.imshow('input_image',input_image)\n",
    "# cv2.waitKey(0)\n",
    "# cv2.destroyAllWindows()"
   ]
  },
  {
   "cell_type": "code",
   "execution_count": 179,
   "id": "56cdbce8-fece-4194-91aa-839569833b2a",
   "metadata": {},
   "outputs": [
    {
     "name": "stdout",
     "output_type": "stream",
     "text": [
      "(1, 25200, 7)\n"
     ]
    }
   ],
   "source": [
    "print(preds.shape)"
   ]
  },
  {
   "cell_type": "code",
   "execution_count": 180,
   "id": "165eee22-af5a-4aa4-8633-b744255b6d7e",
   "metadata": {},
   "outputs": [],
   "source": [
    "detections=preds[0]\n",
    "boxes=[]\n",
    "confidences=[]\n",
    "classes=[]\n",
    "\n",
    "image_w,image_h=input_image.shape[:2]\n",
    "x_factor=image_w/INPUT_WH_YOLO\n",
    "y_factor=image_h/INPUT_WH_YOLO\n",
    "\n",
    "for i in range(len(detections)):\n",
    "    row=detections[i]\n",
    "    confidence=row[4]\n",
    "    if confidence>0.3:\n",
    "        class_score=row[5:].max()\n",
    "        class_id=row[5:].argmax()\n",
    "\n",
    "        if class_score>0.15:\n",
    "            cx,cy,w,h=row[0:4]\n",
    "            left=int((cx-0.5*w)*x_factor)\n",
    "            top=int((cy-0.5*h)*y_factor)\n",
    "            width=int(w*x_factor)\n",
    "            height= int(h*y_factor)\n",
    "            box=np.array([left,top,width,height])\n",
    "    \n",
    "            confidences.append(confidence)\n",
    "            boxes.append(box)\n",
    "            classes.append(class_id)\n",
    "\n",
    "boxes_np=np.array(boxes).tolist()\n",
    "confidences_np=np.array(confidences).tolist()\n",
    "\n",
    "index=cv2.dnn.NMSBoxes(boxes_np,confidences_np,0.25,0.45).flatten()"
   ]
  },
  {
   "cell_type": "code",
   "execution_count": 181,
   "id": "35e7872f-0a48-49ce-a525-14b1fd3656bc",
   "metadata": {},
   "outputs": [],
   "source": [
    "for ind in index:\n",
    "    x,y,w,h=boxes_np[ind]\n",
    "    bb_conf=int(confidences_np[ind]*100)\n",
    "    classes_id=classes[ind]\n",
    "    class_name=labels[classes_id]\n",
    "\n",
    "    text=f'{class_name}:{bb_conf}%'\n",
    "    cv2.rectangle(image,(x,y),(x+w,y+h),(0,255,0),2)\n",
    "    cv2.rectangle(image,(x,y-30),(x+w,y),(255,255,255),-1)\n",
    "\n",
    "    cv2.putText(image,text,(x,y-10),cv2.FONT_HERSHEY_PLAIN,0.7,(0,0,0),1)"
   ]
  },
  {
   "cell_type": "code",
   "execution_count": 182,
   "id": "bb7ad908-8785-494c-914e-a8568ff584b9",
   "metadata": {},
   "outputs": [],
   "source": [
    "cv2.imshow('original',img)\n",
    "cv2.imshow('yolo_prediction',image)\n",
    "cv2.waitKey(0)\n",
    "cv2.destroyAllWindows()"
   ]
  },
  {
   "cell_type": "code",
   "execution_count": null,
   "id": "60343676-5b68-4508-b24a-8a2eb91bf335",
   "metadata": {},
   "outputs": [],
   "source": []
  },
  {
   "cell_type": "code",
   "execution_count": null,
   "id": "82d53719-8868-4cd5-9318-71a31630b4e0",
   "metadata": {},
   "outputs": [],
   "source": []
  }
 ],
 "metadata": {
  "kernelspec": {
   "display_name": "Python 3 (ipykernel)",
   "language": "python",
   "name": "python3"
  },
  "language_info": {
   "codemirror_mode": {
    "name": "ipython",
    "version": 3
   },
   "file_extension": ".py",
   "mimetype": "text/x-python",
   "name": "python",
   "nbconvert_exporter": "python",
   "pygments_lexer": "ipython3",
   "version": "3.10.5"
  }
 },
 "nbformat": 4,
 "nbformat_minor": 5
}
